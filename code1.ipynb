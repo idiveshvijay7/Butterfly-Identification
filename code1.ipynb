{
 "cells": [
  {
   "cell_type": "code",
   "execution_count": 59,
   "metadata": {},
   "outputs": [],
   "source": [
    "import tensorflow as tf\n",
    "import matplotlib.pyplot as plt\n",
    "import os\n",
    "import numpy as np\n",
    "from tensorflow.keras.preprocessing.image import ImageDataGenerator\n",
    "from tensorflow.keras.preprocessing import image\n",
    "from keras.models import Model\n",
    "from keras.models import Sequential\n",
    "from keras.layers import Conv2D, MaxPooling2D, Dense, Flatten, Dropout\n",
    "from keras.metrics import categorical_crossentropy\n",
    "from glob import glob\n",
    "import matplotlib.pyplot as plt\n",
    "from tensorflow.keras.optimizers import SGD\n",
    "import numpy as np\n"
   ]
  },
  {
   "cell_type": "code",
   "execution_count": 60,
   "metadata": {},
   "outputs": [],
   "source": [
    "train_directory='C:/Users/Asus/Documents/python/output/train'\n",
    "test_directory='C:/Users/Asus/Documents/python/output/val'"
   ]
  },
  {
   "cell_type": "code",
   "execution_count": 61,
   "metadata": {},
   "outputs": [],
   "source": [
    "train_datagen = ImageDataGenerator(rescale = 1/255)\n",
    "\n",
    "test_datagen = ImageDataGenerator(rescale = 1/255)"
   ]
  },
  {
   "cell_type": "code",
   "execution_count": 62,
   "metadata": {},
   "outputs": [
    {
     "name": "stdout",
     "output_type": "stream",
     "text": [
      "Found 35163 images belonging to 332 classes.\n",
      "Found 8952 images belonging to 332 classes.\n"
     ]
    }
   ],
   "source": [
    "training_set = train_datagen.flow_from_directory(train_directory,\n",
    "                                                 target_size = (224, 224),\n",
    "                                                 batch_size = 16,\n",
    "                                                 class_mode = 'categorical')\n",
    "\n",
    "test_set = test_datagen.flow_from_directory(test_directory,\n",
    "                                            target_size = (224, 224),\n",
    "                                            batch_size = 16,\n",
    "                                            class_mode = 'categorical')"
   ]
  },
  {
   "cell_type": "code",
   "execution_count": 71,
   "metadata": {},
   "outputs": [],
   "source": [
    "\n",
    "  # Initialize the model\n",
    "  model = tf.keras.models.Sequential([\n",
    "\n",
    "  # layer 1-2: 2 convolutional layers + 1 max-pooling layer \n",
    "  tf.keras.layers.Conv2D(16,(3,3), activation = 'relu', input_shape = (224,224,3)),\n",
    "  tf.keras.layers.MaxPool2D(2,2),\n",
    "\n",
    "  tf.keras.layers.Conv2D(32,(3,3), activation = 'relu'),\n",
    "  tf.keras.layers.MaxPool2D(2,2),\n",
    "\n",
    "  tf.keras.layers.Conv2D(64,(3,3), activation = 'relu'),\n",
    "  tf.keras.layers.MaxPool2D(2,2),\n",
    "\n",
    "  tf.keras.layers.Dropout(0.2),  \n",
    "  tf.keras.layers.Flatten(),\n",
    "  tf.keras.layers.Dense(512 , activation = 'relu'),\n",
    "  tf.keras.layers.Dense(332 , activation = 'softmax')\n",
    "                                   ])\n"
   ]
  },
  {
   "cell_type": "code",
   "execution_count": 6,
   "metadata": {},
   "outputs": [],
   "source": [
    "model.compile(\n",
    "  loss='categorical_crossentropy',\n",
    "  optimizer='adam',\n",
    "  metrics=['accuracy']\n",
    ")"
   ]
  },
  {
   "cell_type": "code",
   "execution_count": 7,
   "metadata": {},
   "outputs": [
    {
     "name": "stdout",
     "output_type": "stream",
     "text": [
      "Model: \"sequential\"\n",
      "_________________________________________________________________\n",
      " Layer (type)                Output Shape              Param #   \n",
      "=================================================================\n",
      " conv2d (Conv2D)             (None, 222, 222, 16)      448       \n",
      "                                                                 \n",
      " max_pooling2d (MaxPooling2D  (None, 111, 111, 16)     0         \n",
      " )                                                               \n",
      "                                                                 \n",
      " conv2d_1 (Conv2D)           (None, 109, 109, 32)      4640      \n",
      "                                                                 \n",
      " max_pooling2d_1 (MaxPooling  (None, 54, 54, 32)       0         \n",
      " 2D)                                                             \n",
      "                                                                 \n",
      " conv2d_2 (Conv2D)           (None, 52, 52, 64)        18496     \n",
      "                                                                 \n",
      " max_pooling2d_2 (MaxPooling  (None, 26, 26, 64)       0         \n",
      " 2D)                                                             \n",
      "                                                                 \n",
      " dropout (Dropout)           (None, 26, 26, 64)        0         \n",
      "                                                                 \n",
      " flatten (Flatten)           (None, 43264)             0         \n",
      "                                                                 \n",
      " dense (Dense)               (None, 512)               22151680  \n",
      "                                                                 \n",
      " dense_1 (Dense)             (None, 332)               170316    \n",
      "                                                                 \n",
      "=================================================================\n",
      "Total params: 22,345,580\n",
      "Trainable params: 22,345,580\n",
      "Non-trainable params: 0\n",
      "_________________________________________________________________\n"
     ]
    }
   ],
   "source": [
    "model.summary()"
   ]
  },
  {
   "cell_type": "code",
   "execution_count": 8,
   "metadata": {},
   "outputs": [
    {
     "name": "stdout",
     "output_type": "stream",
     "text": [
      "Epoch 1/15\n",
      "2198/2198 [==============================] - 384s 167ms/step - loss: 4.7042 - accuracy: 0.1042 - val_loss: 3.8700 - val_accuracy: 0.1813\n",
      "Epoch 2/15\n",
      "2198/2198 [==============================] - 336s 153ms/step - loss: 3.2240 - accuracy: 0.2807 - val_loss: 3.2963 - val_accuracy: 0.2694\n",
      "Epoch 3/15\n",
      "2198/2198 [==============================] - 330s 150ms/step - loss: 2.0038 - accuracy: 0.5009 - val_loss: 3.4591 - val_accuracy: 0.2885\n",
      "Epoch 4/15\n",
      "2198/2198 [==============================] - 332s 151ms/step - loss: 0.9209 - accuracy: 0.7514 - val_loss: 4.5038 - val_accuracy: 0.2691\n",
      "Epoch 5/15\n",
      "2198/2198 [==============================] - 342s 156ms/step - loss: 0.4034 - accuracy: 0.8869 - val_loss: 5.4757 - val_accuracy: 0.2660\n",
      "Epoch 6/15\n",
      "2198/2198 [==============================] - 318s 144ms/step - loss: 0.2665 - accuracy: 0.9257 - val_loss: 6.2716 - val_accuracy: 0.2713\n",
      "Epoch 7/15\n",
      "2198/2198 [==============================] - 192s 87ms/step - loss: 0.2220 - accuracy: 0.9383 - val_loss: 6.7450 - val_accuracy: 0.2570\n",
      "Epoch 8/15\n",
      "2198/2198 [==============================] - 188s 86ms/step - loss: 0.1872 - accuracy: 0.9484 - val_loss: 7.1679 - val_accuracy: 0.2510\n",
      "Epoch 9/15\n",
      "2198/2198 [==============================] - 192s 87ms/step - loss: 0.1733 - accuracy: 0.9519 - val_loss: 7.7831 - val_accuracy: 0.2614\n",
      "Epoch 10/15\n",
      "2198/2198 [==============================] - 178s 81ms/step - loss: 0.1436 - accuracy: 0.9610 - val_loss: 7.9356 - val_accuracy: 0.2574\n",
      "Epoch 11/15\n",
      "2198/2198 [==============================] - 178s 81ms/step - loss: 0.1430 - accuracy: 0.9601 - val_loss: 8.1741 - val_accuracy: 0.2489\n",
      "Epoch 12/15\n",
      "2198/2198 [==============================] - 172s 78ms/step - loss: 0.1306 - accuracy: 0.9642 - val_loss: 7.8029 - val_accuracy: 0.2471\n",
      "Epoch 13/15\n",
      "2198/2198 [==============================] - 177s 81ms/step - loss: 0.1369 - accuracy: 0.9636 - val_loss: 8.1266 - val_accuracy: 0.2542\n",
      "Epoch 14/15\n",
      "2198/2198 [==============================] - 153s 69ms/step - loss: 0.1121 - accuracy: 0.9695 - val_loss: 8.5887 - val_accuracy: 0.2588\n",
      "Epoch 15/15\n",
      "2198/2198 [==============================] - 156s 71ms/step - loss: 0.1149 - accuracy: 0.9704 - val_loss: 8.9834 - val_accuracy: 0.2586\n"
     ]
    }
   ],
   "source": [
    "epochs = 15\n",
    "history = model.fit(\n",
    "  training_set,\n",
    "  validation_data=test_set,\n",
    "  epochs=epochs\n",
    ")"
   ]
  },
  {
   "cell_type": "code",
   "execution_count": 10,
   "metadata": {},
   "outputs": [
    {
     "data": {
      "image/png": "[encoded data removed]",
      "text/plain": [
       "<Figure size 432x288 with 1 Axes>"
      ]
     },
     "metadata": {
      "needs_background": "light"
     },
     "output_type": "display_data"
    }
   ],
   "source": [
    "plt.plot(history.history['loss'], label='train loss')\n",
    "plt.plot(history.history['val_loss'], label='val loss')\n",
    "plt.legend()\n",
    "plt.show()"
   ]
  },
  {
   "cell_type": "code",
   "execution_count": 11,
   "metadata": {},
   "outputs": [
    {
     "data": {
      "image/png": "[encoded data removed]",
      "text/plain": [
       "<Figure size 432x288 with 1 Axes>"
      ]
     },
     "metadata": {
      "needs_background": "light"
     },
     "output_type": "display_data"
    }
   ],
   "source": [
    "plt.plot(history.history['accuracy'], label='train acc')\n",
    "plt.plot(history.history['val_accuracy'], label='val acc')\n",
    "plt.legend()\n",
    "plt.show()"
   ]
  },
  {
   "cell_type": "code",
   "execution_count": 12,
   "metadata": {},
   "outputs": [],
   "source": [
    "model.save('WA.h5')"
   ]
  },
  {
   "cell_type": "code",
   "execution_count": 63,
   "metadata": {},
   "outputs": [],
   "source": [
    "from keras.models import load_model\n",
    "from keras.preprocessing.image import load_img,img_to_array\n",
    "\n",
    "model1 = load_model('./WA.h5',compile=False)"
   ]
  },
  {
   "cell_type": "code",
   "execution_count": 64,
   "metadata": {},
   "outputs": [],
   "source": [
    "lab = training_set.class_indices\n",
    "lab={k:v for v,k in lab.items()}"
   ]
  },
  {
   "cell_type": "code",
   "execution_count": 81,
   "metadata": {},
   "outputs": [],
   "source": [
    "def output(location):\n",
    "    img=load_img(location,target_size=(224,224,3))\n",
    "    img=img_to_array(img)\n",
    "    img=img/255\n",
    "    img=np.expand_dims(img,[0])\n",
    "    answer=model1.predict(img)\n",
    "    max_value = np.max(answer)\n",
    "    y_class = answer.argmax(axis=-1)\n",
    "    y = \" \".join(str(x) for x in y_class)\n",
    "    y = int(y)\n",
    "    res = lab[y]\n",
    "    return answer"
   ]
  },
  {
   "cell_type": "code",
   "execution_count": 72,
   "metadata": {},
   "outputs": [
    {
     "name": "stdout",
     "output_type": "stream",
     "text": [
      "INFO:tensorflow:Assets written to: C:\\Users\\Asus\\AppData\\Local\\Temp\\tmp730cj1ti\\assets\n"
     ]
    },
    {
     "name": "stderr",
     "output_type": "stream",
     "text": [
      "INFO:tensorflow:Assets written to: C:\\Users\\Asus\\AppData\\Local\\Temp\\tmp730cj1ti\\assets\n",
      "WARNING:absl:Buffer deduplication procedure will be skipped when flatbuffer library is not properly loaded\n"
     ]
    }
   ],
   "source": [
    "converter = tf.lite.TFLiteConverter.from_keras_model(model)\n",
    "tflite_model = converter.convert()\n",
    "\n",
    "# Save the model.\n",
    "with open('model_WB1.tflite', 'wb') as f:\n",
    "  f.write(tflite_model)"
   ]
  },
  {
   "cell_type": "code",
   "execution_count": 82,
   "metadata": {},
   "outputs": [
    {
     "data": {
      "text/plain": [
       "array([[3.14422175e-02, 5.06418473e-06, 1.14785337e-08, 7.69610295e-08,\n",
       "        3.30652401e-04, 7.70142265e-07, 1.79449017e-07, 2.99635976e-05,\n",
       "        1.12873963e-07, 8.21411784e-04, 7.72700296e-05, 2.30920523e-06,\n",
       "        8.63870955e-05, 2.24893902e-05, 6.04450122e-07, 1.48588668e-07,\n",
       "        3.46636407e-05, 1.46272372e-08, 2.90317566e-08, 1.23609288e-05,\n",
       "        1.79027833e-04, 3.29729155e-05, 4.04971623e-04, 3.04562185e-04,\n",
       "        4.74325643e-05, 3.52034755e-02, 1.00052543e-10, 7.51524190e-12,\n",
       "        2.29269685e-12, 4.31947633e-09, 1.54995675e-07, 1.13159682e-09,\n",
       "        6.63355735e-08, 3.97321535e-03, 3.93095752e-03, 3.00568175e-02,\n",
       "        3.62172470e-09, 1.23974787e-05, 2.05406127e-06, 5.13883773e-04,\n",
       "        1.67535404e-06, 1.08837883e-09, 2.10590461e-08, 6.31036022e-13,\n",
       "        3.57416039e-03, 2.75663007e-02, 6.12078429e-06, 6.37780762e-09,\n",
       "        1.88057712e-07, 9.74832517e-08, 1.00689851e-06, 2.00436862e-05,\n",
       "        2.12728287e-06, 2.22800554e-05, 1.31759397e-03, 1.23604906e-07,\n",
       "        4.35481155e-07, 4.65024277e-06, 6.13504820e-12, 5.60841258e-08,\n",
       "        2.19623371e-06, 1.19142113e-10, 4.07367803e-12, 4.77427076e-09,\n",
       "        5.32522099e-05, 1.43849567e-04, 1.57865824e-03, 1.67596431e-06,\n",
       "        1.13163146e-09, 2.94167853e-06, 1.80202889e-07, 7.74883156e-05,\n",
       "        1.12395010e-05, 1.97142663e-06, 1.38535870e-06, 4.57821989e-05,\n",
       "        1.18118609e-04, 8.41583005e-06, 1.26739494e-07, 8.75615387e-06,\n",
       "        3.15344473e-10, 2.16194632e-04, 2.01239300e-06, 4.63751439e-06,\n",
       "        1.19471697e-05, 2.21069658e-05, 3.70492331e-10, 3.70596942e-10,\n",
       "        1.04762694e-12, 3.38936046e-13, 4.02694873e-08, 1.17277386e-05,\n",
       "        1.95849680e-06, 3.04444514e-09, 5.26627875e-04, 2.65683038e-13,\n",
       "        3.48668594e-10, 5.77183255e-06, 1.92538027e-10, 5.35230362e-14,\n",
       "        1.14868504e-09, 6.50320769e-11, 8.35584501e-07, 4.07719897e-04,\n",
       "        3.44249793e-06, 1.42670213e-08, 5.50542376e-04, 2.09984794e-08,\n",
       "        1.28209185e-08, 1.07576925e-08, 5.27098587e-09, 1.90420337e-08,\n",
       "        2.95630942e-09, 1.92593980e-05, 1.31623182e-07, 4.02644628e-06,\n",
       "        1.09066650e-06, 6.44885440e-05, 3.12406073e-11, 9.26227040e-06,\n",
       "        3.84782380e-11, 1.03288125e-08, 8.83588136e-09, 4.14320448e-06,\n",
       "        4.93800698e-08, 6.69512076e-07, 9.02329731e-08, 4.11516297e-08,\n",
       "        2.75238762e-07, 2.68889271e-04, 5.64112868e-10, 2.00448876e-11,\n",
       "        9.77663839e-10, 3.28162195e-18, 2.57576408e-11, 3.33853225e-13,\n",
       "        3.06361811e-11, 3.24736185e-08, 1.80456918e-05, 3.63917497e-05,\n",
       "        1.79320541e-05, 1.93547588e-02, 2.95862847e-04, 4.07899705e-08,\n",
       "        6.79842969e-06, 1.33372043e-06, 4.31495920e-07, 1.09564132e-06,\n",
       "        2.19838785e-06, 2.57619121e-15, 3.70412017e-05, 1.60124827e-07,\n",
       "        7.44525330e-10, 1.01585691e-10, 7.76441993e-06, 1.44159146e-11,\n",
       "        4.48041283e-05, 8.79727957e-11, 4.51503794e-08, 5.65084761e-08,\n",
       "        9.83180871e-05, 3.98894855e-08, 4.11957444e-05, 1.09472374e-07,\n",
       "        1.25657189e-05, 5.72511112e-07, 1.60301624e-05, 4.02233945e-06,\n",
       "        1.17492555e-05, 8.84927758e-08, 4.02129459e-04, 2.79828534e-03,\n",
       "        7.96269788e-08, 6.03191324e-07, 3.25543925e-10, 4.06358058e-09,\n",
       "        2.19739640e-08, 5.18896250e-08, 1.52909233e-05, 3.77897709e-06,\n",
       "        1.63355907e-07, 2.47497028e-05, 4.05434690e-08, 5.03008732e-06,\n",
       "        2.76988260e-07, 5.82876601e-05, 5.41396581e-08, 1.52608186e-06,\n",
       "        4.90453438e-08, 2.66624170e-06, 1.07188143e-05, 1.58400988e-04,\n",
       "        4.56111451e-07, 2.74341811e-08, 1.74132504e-06, 1.62761286e-01,\n",
       "        9.75965619e-08, 4.44682016e-08, 1.60065465e-04, 1.77539783e-04,\n",
       "        1.18268053e-08, 1.09340772e-01, 2.14916933e-03, 2.04197036e-07,\n",
       "        7.71041755e-07, 1.58061594e-05, 3.31857528e-11, 2.43807989e-07,\n",
       "        2.41051515e-12, 7.41030317e-06, 9.68311952e-07, 3.10353862e-05,\n",
       "        2.63238198e-05, 1.52240200e-05, 4.60175215e-05, 1.15425928e-05,\n",
       "        3.06224684e-10, 1.65503909e-04, 4.55457178e-13, 3.04511721e-10,\n",
       "        6.39856466e-07, 1.83422237e-08, 9.28031887e-11, 6.86338453e-08,\n",
       "        4.75886403e-15, 6.16720650e-12, 1.25574074e-12, 2.09132324e-07,\n",
       "        2.66617639e-09, 1.36747530e-10, 6.54781895e-10, 1.33847877e-09,\n",
       "        1.86542365e-10, 5.54433122e-08, 1.26031061e-10, 4.18386922e-11,\n",
       "        4.50121364e-11, 1.52095299e-06, 6.46777707e-08, 2.72774781e-09,\n",
       "        2.25249361e-02, 1.05905428e-05, 5.51677076e-04, 4.54648834e-04,\n",
       "        2.73703026e-05, 3.61622719e-04, 7.18951773e-11, 1.76381820e-06,\n",
       "        1.77229704e-05, 3.33688455e-04, 1.86352758e-04, 2.24603806e-03,\n",
       "        3.48276008e-05, 8.72361397e-06, 2.03342870e-06, 2.30292117e-05,\n",
       "        1.43314697e-04, 6.55551062e-08, 6.89404480e-12, 2.45158446e-07,\n",
       "        2.21534592e-07, 2.15826788e-08, 5.16197952e-06, 3.68731321e-06,\n",
       "        2.26987449e-05, 3.12473003e-06, 2.18901245e-04, 2.71371005e-06,\n",
       "        1.77844995e-05, 2.10285914e-04, 1.56063098e-03, 1.46099032e-04,\n",
       "        4.66095607e-08, 1.62332505e-02, 1.01318919e-05, 3.15458445e-12,\n",
       "        1.30462388e-08, 1.36625930e-03, 1.15210902e-07, 1.73252367e-04,\n",
       "        8.15781561e-07, 4.52634863e-09, 7.54742417e-04, 2.89375985e-05,\n",
       "        9.42278700e-09, 4.25858616e-06, 4.30404872e-01, 3.39349437e-09,\n",
       "        3.71913160e-07, 1.12515752e-09, 3.81802190e-09, 1.39312588e-05,\n",
       "        3.03080742e-04, 6.88603977e-05, 1.84894861e-06, 3.54892545e-04,\n",
       "        1.82390213e-05, 2.59922373e-09, 4.73653078e-02, 7.98800401e-03,\n",
       "        2.80849141e-04, 9.15437886e-06, 6.84464112e-07, 1.39351846e-06,\n",
       "        1.53135068e-06, 3.83826191e-05, 1.23879403e-07, 1.97038008e-03,\n",
       "        3.39789294e-05, 4.51583055e-08, 2.13280306e-04, 2.17009501e-11,\n",
       "        2.41926056e-03, 8.79243146e-07, 7.03278147e-08, 6.77694416e-08,\n",
       "        5.71180726e-06, 9.80740893e-08, 1.70132131e-10, 4.42411183e-05,\n",
       "        2.05139204e-05, 2.84482958e-04, 3.93115071e-04, 1.93326292e-03,\n",
       "        4.40108607e-08, 1.78250630e-07, 1.51715698e-02, 7.46245723e-06,\n",
       "        5.50956247e-05, 1.32723721e-09, 4.78144727e-07, 2.56152707e-04]],\n",
       "      dtype=float32)"
      ]
     },
     "execution_count": 82,
     "metadata": {},
     "output_type": "execute_result"
    }
   ],
   "source": [
    "img='C:/Users/Asus/Documents/python/kumara.png'\n",
    "pic=load_img('C:/Users/Asus/Documents/python/kumara.png',target_size=(224,224,3))\n",
    "\n",
    "output(img)"
   ]
  },
  {
   "cell_type": "code",
   "execution_count": null,
   "metadata": {},
   "outputs": [],
   "source": []
  }
 ],
 "metadata": {
  "interpreter": {
   "hash": "c05a43d8c3296ad6d749d8dd759cc91f7b23ce498548c67b3bcd3eb7812df429"
  },
  "kernelspec": {
   "display_name": "Python 3.9.0 64-bit ('divesh': venv)",
   "language": "python",
   "name": "python3"
  },
  "language_info": {
   "codemirror_mode": {
    "name": "ipython",
    "version": 3
   },
   "file_extension": ".py",
   "mimetype": "text/x-python",
   "name": "python",
   "nbconvert_exporter": "python",
   "pygments_lexer": "ipython3",
   "version": "3.9.0"
  },
  "orig_nbformat": 4
 },
 "nbformat": 4,
 "nbformat_minor": 2
}
